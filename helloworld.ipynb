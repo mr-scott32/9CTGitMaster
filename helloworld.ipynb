{
 "cells": [
  {
   "cell_type": "markdown",
   "metadata": {},
   "source": [
    "# **Jupyter Notebook**\n",
    "\n",
    "**_Jupyter Notebook_** is an excellent tool for computer science which allows us to document our code more extensively. Whilst we still need to comment on our code to explain it, in Jupyter Notebook we can write more extensive notes using **_Markdown_**. [Markdown](https://www.markdownguide.org/getting-started/) is a [Markup Language](https://www.britannica.com/technology/markup-language) which allows us to format plaintext text documents. \n",
    "\n",
    "_Jupyter Notebook_ allows you to include sections of compilable code and sections of Markdown language, so you can create programs and document them all within one file. \n",
    "\n",
    "### **Why use Jupyter Notebook**\n",
    "\n",
    "We are now well beyond the point of programming just being used for applications and computer science. Almost any field of work you can think of requires somebody who can manipulate code, whether it be for data analysis, science, web application development and much more. We have become an increasingly data-focused society. With this in mind, it is now important to not only utilise code to analyse data, but also to draw and document conclusions from that data. \n",
    "\n",
    "### **What's in it for you?**\n",
    "\n",
    "You will be using _Jupyter Notebook_ to create and document many of your solutions throughout the course. **_This includes assessment tasks_**, with the first two tasks requiring you to **_complete ALL of your documentation_** in Jupyter Notebook.\n",
    "\n",
    "## **Let's see an Example:**\n",
    "\n",
    "Let's have a look below at an example, which will print \"Hello, World!\" to the screen using Python. You're likely more than familiar with this program (it is always the first program created when learning a new programming language), but will serve as a great example of how this works. \n",
    "\n",
    "All you do is click **_+code_** up the top left of your screen to create a new code section. \n",
    "\n",
    "In that section, type *print('Hello, World!')* \n",
    "\n",
    "Then, either click the **_small triangle_** to the left of the code section that appears when you hover over it, or click the **_run all button_** at the top of the screen."
   ]
  },
  {
   "cell_type": "markdown",
   "metadata": {},
   "source": []
  },
  {
   "cell_type": "code",
   "execution_count": 11,
   "metadata": {},
   "outputs": [
    {
     "name": "stdout",
     "output_type": "stream",
     "text": [
      "Hello, World!\n"
     ]
    }
   ],
   "source": [
    "print('Hello, World!')"
   ]
  }
 ],
 "metadata": {
  "kernelspec": {
   "display_name": "Python 3",
   "language": "python",
   "name": "python3"
  },
  "language_info": {
   "codemirror_mode": {
    "name": "ipython",
    "version": 3
   },
   "file_extension": ".py",
   "mimetype": "text/x-python",
   "name": "python",
   "nbconvert_exporter": "python",
   "pygments_lexer": "ipython3",
   "version": "3.11.4"
  }
 },
 "nbformat": 4,
 "nbformat_minor": 2
}
